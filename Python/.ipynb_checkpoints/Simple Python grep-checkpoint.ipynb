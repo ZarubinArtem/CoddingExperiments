{
 "cells": [
  {
   "cell_type": "code",
   "execution_count": 2,
   "metadata": {
    "collapsed": true
   },
   "outputs": [],
   "source": [
    "def simplegrep(pattern, filename):\n",
    "    with open(filename) as fin:\n",
    "        for linenum, line in enumerate(fin):\n",
    "            if pattern in line:\n",
    "                print(linenum, ':', line)"
   ]
  },
  {
   "cell_type": "code",
   "execution_count": 5,
   "metadata": {
    "collapsed": false
   },
   "outputs": [
    {
     "name": "stdout",
     "output_type": "stream",
     "text": [
      "0 : To be, or not to be- that is the question: \n",
      "\n",
      "8 : Devoutly to be wish'd. To die- to sleep. \n",
      "\n",
      "14 : For who would bear the whips and scorns of time, \n",
      "\n",
      "20 : With a bare bodkin? Who would these fardels bear, \n",
      "\n",
      "25 : And makes us rather bear those ills we have \n",
      "\n"
     ]
    }
   ],
   "source": [
    "simplegrep(\"be\", \"be.txt\")"
   ]
  },
  {
   "cell_type": "code",
   "execution_count": null,
   "metadata": {
    "collapsed": true
   },
   "outputs": [],
   "source": []
  }
 ],
 "metadata": {
  "anaconda-cloud": {},
  "kernelspec": {
   "display_name": "Python [Root]",
   "language": "python",
   "name": "Python [Root]"
  },
  "language_info": {
   "codemirror_mode": {
    "name": "ipython",
    "version": 3
   },
   "file_extension": ".py",
   "mimetype": "text/x-python",
   "name": "python",
   "nbconvert_exporter": "python",
   "pygments_lexer": "ipython3",
   "version": "3.5.2"
  }
 },
 "nbformat": 4,
 "nbformat_minor": 0
}
