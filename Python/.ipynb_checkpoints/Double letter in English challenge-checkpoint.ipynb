{
 "cells": [
  {
   "cell_type": "markdown",
   "metadata": {},
   "source": [
    "## The task is— find the letter(s) which does not have double-letter form words in English"
   ]
  },
  {
   "cell_type": "code",
   "execution_count": 2,
   "metadata": {
    "collapsed": false
   },
   "outputs": [
    {
     "name": "stdout",
     "output_type": "stream",
     "text": [
      "{'i': 0}\n"
     ]
    }
   ],
   "source": [
    "import scrabble\n",
    "\n",
    "alphabet = [\"a\", \"c\", \"b\", \"e\", \"d\", \"g\", \"f\", \"i\", \"h\", \"k\", \"j\", \"m\", \"l\", \"o\", \"n\", \"q\", \"p\", \"s\", \"r\", \"u\", \"t\", \"w\", \"v\", \"y\", \"x\", \"z\"]\n",
    "\n",
    "dict_of_inuqiue_letters = {}\n",
    "\n",
    "for i in alphabet:\n",
    "    for word in scrabble.wordlist:\n",
    "        if i+i in word:\n",
    "            pass\n",
    "        else:\n",
    "            dict_of_inuqiue_letters['i'] = 0\n",
    "\n",
    "print(dict_of_inuqiue_letters)\n"
   ]
  },
  {
   "cell_type": "code",
   "execution_count": null,
   "metadata": {
    "collapsed": true
   },
   "outputs": [],
   "source": []
  }
 ],
 "metadata": {
  "anaconda-cloud": {},
  "kernelspec": {
   "display_name": "Python [Root]",
   "language": "python",
   "name": "Python [Root]"
  },
  "language_info": {
   "codemirror_mode": {
    "name": "ipython",
    "version": 3
   },
   "file_extension": ".py",
   "mimetype": "text/x-python",
   "name": "python",
   "nbconvert_exporter": "python",
   "pygments_lexer": "ipython3",
   "version": "3.5.2"
  }
 },
 "nbformat": 4,
 "nbformat_minor": 0
}
