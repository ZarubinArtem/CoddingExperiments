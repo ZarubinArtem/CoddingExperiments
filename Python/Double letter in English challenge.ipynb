{
 "cells": [
  {
   "cell_type": "markdown",
   "metadata": {},
   "source": [
    "## The task is— find the letter(s) which does not have double-letter form words in English"
   ]
  },
  {
   "cell_type": "code",
   "execution_count": 4,
   "metadata": {
    "collapsed": false
   },
   "outputs": [
    {
     "name": "stdout",
     "output_type": "stream",
     "text": [
      "There are no word with double q in English!\n",
      "There are no word with double x in English!\n"
     ]
    }
   ],
   "source": [
    "import scrabble\n",
    "import string\n",
    "\n",
    "for i in string.ascii_lowercase:\n",
    "    word_is_exists = False\n",
    "    for word in scrabble.wordlist:\n",
    "        if i+i in word:\n",
    "            word_is_exists = True\n",
    "            break\n",
    "    if not word_is_exists:\n",
    "        print(\"There are no word with double {} in English!\".format(i))\n"
   ]
  },
  {
   "cell_type": "code",
   "execution_count": null,
   "metadata": {
    "collapsed": true
   },
   "outputs": [],
   "source": []
  }
 ],
 "metadata": {
  "anaconda-cloud": {},
  "kernelspec": {
   "display_name": "Python [Root]",
   "language": "python",
   "name": "Python [Root]"
  },
  "language_info": {
   "codemirror_mode": {
    "name": "ipython",
    "version": 3
   },
   "file_extension": ".py",
   "mimetype": "text/x-python",
   "name": "python",
   "nbconvert_exporter": "python",
   "pygments_lexer": "ipython3",
   "version": "3.5.2"
  }
 },
 "nbformat": 4,
 "nbformat_minor": 0
}
